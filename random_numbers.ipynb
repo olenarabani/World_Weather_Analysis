{
 "cells": [
  {
   "cell_type": "code",
   "execution_count": 5,
   "id": "ffd25050",
   "metadata": {},
   "outputs": [],
   "source": [
    "# Import the random module.\n",
    "import random"
   ]
  },
  {
   "cell_type": "code",
   "execution_count": 7,
   "id": "9c78c243",
   "metadata": {},
   "outputs": [
    {
     "data": {
      "text/plain": [
       "-35"
      ]
     },
     "execution_count": 7,
     "metadata": {},
     "output_type": "execute_result"
    }
   ],
   "source": [
    "random.randint(-90, 90)"
   ]
  },
  {
   "cell_type": "code",
   "execution_count": 8,
   "id": "0efc6b3c",
   "metadata": {},
   "outputs": [
    {
     "data": {
      "text/plain": [
       "0.46181431292734876"
      ]
     },
     "execution_count": 8,
     "metadata": {},
     "output_type": "execute_result"
    }
   ],
   "source": [
    "random.random ()"
   ]
  },
  {
   "cell_type": "code",
   "execution_count": 9,
   "id": "81819c26",
   "metadata": {},
   "outputs": [
    {
     "data": {
      "text/plain": [
       "-44.51188267008103"
      ]
     },
     "execution_count": 9,
     "metadata": {},
     "output_type": "execute_result"
    }
   ],
   "source": [
    "random_number = random.randint(-90, 89)+random.random()\n",
    "random_number"
   ]
  },
  {
   "cell_type": "code",
   "execution_count": 11,
   "id": "936bcac3",
   "metadata": {},
   "outputs": [
    {
     "data": {
      "text/plain": [
       "[43.035037525678234,\n",
       " -34.2041778493205,\n",
       " -4.270112199060358,\n",
       " -54.409776495296285,\n",
       " 78.00875732287922,\n",
       " -57.411483890430894,\n",
       " -82.97460034851817,\n",
       " 75.09191208834105,\n",
       " 84.35073905951039,\n",
       " 88.70290802363445]"
      ]
     },
     "execution_count": 11,
     "metadata": {},
     "output_type": "execute_result"
    }
   ],
   "source": [
    "x = 1\n",
    "latitudes = []\n",
    "while x < 11:\n",
    "    random_lat = random.randint(-90, 89) + random.random()\n",
    "    latitudes.append(random_lat)\n",
    "    x += 1\n",
    "latitudes"
   ]
  },
  {
   "cell_type": "code",
   "execution_count": 12,
   "id": "738c879d",
   "metadata": {},
   "outputs": [
    {
     "data": {
      "text/plain": [
       "58"
      ]
     },
     "execution_count": 12,
     "metadata": {},
     "output_type": "execute_result"
    }
   ],
   "source": [
    "random.randrange(-90, 90, step=1)"
   ]
  },
  {
   "cell_type": "code",
   "execution_count": 13,
   "id": "d64d0278",
   "metadata": {},
   "outputs": [
    {
     "data": {
      "text/plain": [
       "-69"
      ]
     },
     "execution_count": 13,
     "metadata": {},
     "output_type": "execute_result"
    }
   ],
   "source": [
    "random.randrange(-90, 90, step=3)"
   ]
  },
  {
   "cell_type": "code",
   "execution_count": 14,
   "id": "57f74732",
   "metadata": {},
   "outputs": [
    {
     "data": {
      "text/plain": [
       "74.92027455571332"
      ]
     },
     "execution_count": 14,
     "metadata": {},
     "output_type": "execute_result"
    }
   ],
   "source": [
    "random.uniform(-90, 90)"
   ]
  },
  {
   "cell_type": "code",
   "execution_count": 15,
   "id": "0ea484f3",
   "metadata": {},
   "outputs": [],
   "source": [
    "# Import the NumPy module.\n",
    "import numpy as np"
   ]
  },
  {
   "cell_type": "code",
   "execution_count": 16,
   "id": "c6439117",
   "metadata": {},
   "outputs": [
    {
     "data": {
      "text/plain": [
       "40.855544129090106"
      ]
     },
     "execution_count": 16,
     "metadata": {},
     "output_type": "execute_result"
    }
   ],
   "source": [
    "np.random.uniform(-90.000, 90.000)"
   ]
  },
  {
   "cell_type": "code",
   "execution_count": 17,
   "id": "52479e12",
   "metadata": {},
   "outputs": [
    {
     "data": {
      "text/plain": [
       "array([-66.57350627, -44.55989811, -70.43930373, -75.2087849 ,\n",
       "        85.75000828, -40.52020539,  22.93494339, -23.71034774,\n",
       "        -5.53345078,  30.8506729 , -86.44815381, -77.44704982,\n",
       "        29.04468281, -41.24572412,  33.6537453 , -68.3014746 ,\n",
       "       -89.85752507,  83.69977663, -29.93715896,   3.0790605 ,\n",
       "       -18.43359396,  87.50789585,  86.10663883, -24.01751561,\n",
       "       -26.57079086, -81.802447  ,  36.8956728 ,  41.04781398,\n",
       "        19.21019698, -89.27714422,  61.21330935,  -5.1806806 ,\n",
       "       -58.62580419, -54.55924685,  81.5076746 ,  -2.9146019 ,\n",
       "       -75.83147783,  -0.29058769, -58.58190215, -78.6929254 ,\n",
       "       -23.70029862, -40.17102989, -55.73167782, -47.3897635 ,\n",
       "       -51.28502521,  40.28818843,  83.32639198,   2.51608432,\n",
       "        21.67424382, -64.01087869])"
      ]
     },
     "execution_count": 17,
     "metadata": {},
     "output_type": "execute_result"
    }
   ],
   "source": [
    "np.random.uniform(-90.000, 90.000, size=50)"
   ]
  },
  {
   "cell_type": "code",
   "execution_count": 18,
   "id": "c05a1b04",
   "metadata": {},
   "outputs": [],
   "source": [
    "# Import timeit.\n",
    "import timeit"
   ]
  },
  {
   "cell_type": "code",
   "execution_count": 19,
   "id": "ed95df84",
   "metadata": {},
   "outputs": [
    {
     "name": "stdout",
     "output_type": "stream",
     "text": [
      "88.7 µs ± 7.17 µs per loop (mean ± std. dev. of 7 runs, 10000 loops each)\n"
     ]
    }
   ],
   "source": [
    "%timeit np.random.uniform(-90.000, 90.000, size=1500)"
   ]
  },
  {
   "cell_type": "code",
   "execution_count": 20,
   "id": "095876af",
   "metadata": {},
   "outputs": [
    {
     "name": "stdout",
     "output_type": "stream",
     "text": [
      "10.7 ms ± 1.57 ms per loop (mean ± std. dev. of 7 runs, 100 loops each)\n"
     ]
    }
   ],
   "source": [
    "def latitudes(size):\n",
    "    latitudes = []\n",
    "    x = 0\n",
    "    while x < (size):\n",
    "        random_lat = random.randint(-90, 90) + random.random()\n",
    "        latitudes.append(random_lat)\n",
    "        x += 1\n",
    "    return latitudes\n",
    "# Call the function with 1500.\n",
    "%timeit latitudes(1500)"
   ]
  },
  {
   "cell_type": "code",
   "execution_count": null,
   "id": "16baa62c",
   "metadata": {},
   "outputs": [],
   "source": []
  }
 ],
 "metadata": {
  "kernelspec": {
   "display_name": "PythonData",
   "language": "python",
   "name": "pythondata"
  },
  "language_info": {
   "codemirror_mode": {
    "name": "ipython",
    "version": 3
   },
   "file_extension": ".py",
   "mimetype": "text/x-python",
   "name": "python",
   "nbconvert_exporter": "python",
   "pygments_lexer": "ipython3",
   "version": "3.7.10"
  }
 },
 "nbformat": 4,
 "nbformat_minor": 5
}
